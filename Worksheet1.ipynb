{
  "nbformat": 4,
  "nbformat_minor": 0,
  "metadata": {
    "colab": {
      "provenance": []
    },
    "kernelspec": {
      "name": "python3",
      "display_name": "Python 3"
    },
    "language_info": {
      "name": "python"
    }
  },
  "cells": [
    {
      "cell_type": "markdown",
      "source": [
        "# **Question 1**"
      ],
      "metadata": {
        "id": "ND87PxQH2uR1"
      }
    },
    {
      "cell_type": "code",
      "source": [
        "import numpy as np\n",
        "import time"
      ],
      "metadata": {
        "id": "ZC6ZFvZUDghr"
      },
      "execution_count": 61,
      "outputs": []
    },
    {
      "cell_type": "code",
      "source": [
        "\n",
        "# Task 1:\n",
        "empty_array = np.empty((2, 2))\n",
        "print(\"Empty Array (2x2):\")\n",
        "print(empty_array)\n",
        "\n"
      ],
      "metadata": {
        "colab": {
          "base_uri": "https://localhost:8080/"
        },
        "id": "Gp9OcAPE2zvD",
        "outputId": "3808877c-0be8-468e-ce4c-d4392dbdff30"
      },
      "execution_count": 60,
      "outputs": [
        {
          "output_type": "stream",
          "name": "stdout",
          "text": [
            "Empty Array (2x2):\n",
            "[[4.80581729e-310 0.00000000e+000]\n",
            " [2.10077583e-312 5.73116149e-322]]\n"
          ]
        }
      ]
    },
    {
      "cell_type": "code",
      "source": [
        "# Task 2:\n",
        "ones_array = np.ones((4, 2))\n",
        "print(\"\\nAll-Ones Array (4x2):\")\n",
        "print(ones_array)"
      ],
      "metadata": {
        "colab": {
          "base_uri": "https://localhost:8080/"
        },
        "id": "A3LOEnTA3PuI",
        "outputId": "e4e4f473-c9c1-4dc4-9f01-8745fa7e25cd"
      },
      "execution_count": 3,
      "outputs": [
        {
          "output_type": "stream",
          "name": "stdout",
          "text": [
            "\n",
            "All-Ones Array (4x2):\n",
            "[[1. 1.]\n",
            " [1. 1.]\n",
            " [1. 1.]\n",
            " [1. 1.]]\n"
          ]
        }
      ]
    },
    {
      "cell_type": "code",
      "source": [
        "# Task 3:\n",
        "fill_value_array = np.full((3, 3), 7)  # Shape (3x3), filled with value 7\n",
        "print(\"\\nArray filled with 7 (3x3):\")\n",
        "print(fill_value_array)"
      ],
      "metadata": {
        "colab": {
          "base_uri": "https://localhost:8080/"
        },
        "id": "rRG-uWMb3S4o",
        "outputId": "8f78f839-762b-4580-cd07-b07ec67fff68"
      },
      "execution_count": 4,
      "outputs": [
        {
          "output_type": "stream",
          "name": "stdout",
          "text": [
            "\n",
            "Array filled with 7 (3x3):\n",
            "[[7 7 7]\n",
            " [7 7 7]\n",
            " [7 7 7]]\n"
          ]
        }
      ]
    },
    {
      "cell_type": "code",
      "source": [
        "# Task 4:\n",
        "given_array = np.array([[1, 2], [3, 4]])\n",
        "zeros_like_array = np.zeros_like(given_array)\n",
        "print(\"\\nZeros Array (same shape as given_array):\")\n",
        "print(zeros_like_array)\n"
      ],
      "metadata": {
        "colab": {
          "base_uri": "https://localhost:8080/"
        },
        "id": "1NH5CHKg3U7U",
        "outputId": "c6d4e9ce-4ad6-489b-9f53-b1c5b01273ed"
      },
      "execution_count": 5,
      "outputs": [
        {
          "output_type": "stream",
          "name": "stdout",
          "text": [
            "\n",
            "Zeros Array (same shape as given_array):\n",
            "[[0 0]\n",
            " [0 0]]\n"
          ]
        }
      ]
    },
    {
      "cell_type": "code",
      "source": [
        "# Task 5:\n",
        "ones_like_array = np.ones_like(given_array)\n",
        "print(\"\\nOnes Array (same shape as given_array):\")\n",
        "print(ones_like_array)"
      ],
      "metadata": {
        "colab": {
          "base_uri": "https://localhost:8080/"
        },
        "id": "o46sU52C3ZYO",
        "outputId": "624f27d9-64d4-4d92-9015-ca0a75eb895c"
      },
      "execution_count": 6,
      "outputs": [
        {
          "output_type": "stream",
          "name": "stdout",
          "text": [
            "\n",
            "Ones Array (same shape as given_array):\n",
            "[[1 1]\n",
            " [1 1]]\n"
          ]
        }
      ]
    },
    {
      "cell_type": "code",
      "source": [
        "# Task 6:\n",
        "new_list = [1, 2, 3, 4]\n",
        "numpy_array = np.array(new_list)\n",
        "print(\"\\nConverted NumPy Array from list:\")\n",
        "print(numpy_array)"
      ],
      "metadata": {
        "colab": {
          "base_uri": "https://localhost:8080/"
        },
        "id": "rX_S3sZm3bmS",
        "outputId": "a55dd943-6dbf-4681-e0ad-58b391793ba2"
      },
      "execution_count": 7,
      "outputs": [
        {
          "output_type": "stream",
          "name": "stdout",
          "text": [
            "\n",
            "Converted NumPy Array from list:\n",
            "[1 2 3 4]\n"
          ]
        }
      ]
    },
    {
      "cell_type": "markdown",
      "source": [
        "# **Question 2**"
      ],
      "metadata": {
        "id": "BdLcvlH23ula"
      }
    },
    {
      "cell_type": "code",
      "source": [
        "# Task 1:\n",
        "array_10_to_49 = np.arange(10, 50)\n",
        "print(\"Array with values from 10 to 49:\")\n",
        "print(array_10_to_49)\n"
      ],
      "metadata": {
        "colab": {
          "base_uri": "https://localhost:8080/"
        },
        "id": "YNS56lj23xMc",
        "outputId": "cd5d29ef-a4c0-4571-f50b-9a661875759c"
      },
      "execution_count": 8,
      "outputs": [
        {
          "output_type": "stream",
          "name": "stdout",
          "text": [
            "Array with values from 10 to 49:\n",
            "[10 11 12 13 14 15 16 17 18 19 20 21 22 23 24 25 26 27 28 29 30 31 32 33\n",
            " 34 35 36 37 38 39 40 41 42 43 44 45 46 47 48 49]\n"
          ]
        }
      ]
    },
    {
      "cell_type": "code",
      "source": [
        "# Task 2:\n",
        "matrix_3x3 = np.arange(9).reshape((3, 3))\n",
        "print(\"\\n3x3 Matrix with values from 0 to 8:\")\n",
        "print(matrix_3x3)"
      ],
      "metadata": {
        "colab": {
          "base_uri": "https://localhost:8080/"
        },
        "id": "clMXsc8Y4BAP",
        "outputId": "7ab81b72-ec99-4ba3-db53-dcc0fbc48a20"
      },
      "execution_count": 9,
      "outputs": [
        {
          "output_type": "stream",
          "name": "stdout",
          "text": [
            "\n",
            "3x3 Matrix with values from 0 to 8:\n",
            "[[0 1 2]\n",
            " [3 4 5]\n",
            " [6 7 8]]\n"
          ]
        }
      ]
    },
    {
      "cell_type": "code",
      "source": [
        "# Task 3:\n",
        "identity_matrix = np.eye(3)\n",
        "print(\"\\n3x3 Identity Matrix:\")\n",
        "print(identity_matrix)"
      ],
      "metadata": {
        "colab": {
          "base_uri": "https://localhost:8080/"
        },
        "id": "hE7oMduD4EyJ",
        "outputId": "b8bf2d9d-9e6a-41c1-faf8-3c540b3731fd"
      },
      "execution_count": 10,
      "outputs": [
        {
          "output_type": "stream",
          "name": "stdout",
          "text": [
            "\n",
            "3x3 Identity Matrix:\n",
            "[[1. 0. 0.]\n",
            " [0. 1. 0.]\n",
            " [0. 0. 1.]]\n"
          ]
        }
      ]
    },
    {
      "cell_type": "code",
      "source": [
        "# Task 4:\n",
        "x = np.random.random(30)\n",
        "mean = x.mean()\n",
        "\n",
        "print(\"array given: \", x)\n",
        "print(\"Mean  : \", mean)"
      ],
      "metadata": {
        "colab": {
          "base_uri": "https://localhost:8080/"
        },
        "id": "haA7D8pt4HJS",
        "outputId": "9455813f-d445-4dc2-f5a6-502667558e9f"
      },
      "execution_count": 40,
      "outputs": [
        {
          "output_type": "stream",
          "name": "stdout",
          "text": [
            "array given:  [0.90811492 0.78370423 0.4123577  0.42099048 0.82350709 0.68986574\n",
            " 0.93808476 0.11620095 0.17182478 0.81585089 0.76257638 0.9417421\n",
            " 0.17526379 0.70606265 0.93112633 0.70726053 0.49977829 0.82536016\n",
            " 0.04534475 0.53913155 0.19537468 0.42208625 0.66524593 0.0621545\n",
            " 0.81434835 0.81451612 0.12983516 0.04882618 0.46149703 0.09380352]\n",
            "Mean  :  0.5307278592315888\n"
          ]
        }
      ]
    },
    {
      "cell_type": "code",
      "source": [
        "# Task 5:\n",
        "random_10x10 = np.random.random((10, 10))\n",
        "min_value = random_10x10.min()\n",
        "max_value = random_10x10.max()\n",
        "print(\"\\n10x10 Random Array:\")\n",
        "print(random_10x10)\n",
        "print(\"Minimum Value:\", min_value)\n",
        "print(\"Maximum Value:\", max_value)"
      ],
      "metadata": {
        "colab": {
          "base_uri": "https://localhost:8080/"
        },
        "id": "O9w4lmzK4JPi",
        "outputId": "73e37566-4247-4d46-f506-dbe27c6adbaf"
      },
      "execution_count": 12,
      "outputs": [
        {
          "output_type": "stream",
          "name": "stdout",
          "text": [
            "\n",
            "10x10 Random Array:\n",
            "[[0.84904808 0.64409505 0.62901002 0.50957695 0.99554186 0.195443\n",
            "  0.15175639 0.59643966 0.39292438 0.80360963]\n",
            " [0.81467078 0.95749823 0.71598431 0.4387205  0.93617936 0.10152464\n",
            "  0.79692915 0.17788495 0.27566096 0.18901611]\n",
            " [0.11985787 0.0202547  0.3367508  0.49633676 0.09831403 0.45955525\n",
            "  0.90810302 0.24627698 0.95829555 0.1068559 ]\n",
            " [0.84598576 0.90230682 0.60226465 0.58252116 0.52990792 0.0813442\n",
            "  0.70151753 0.21330865 0.84304563 0.46056959]\n",
            " [0.03083794 0.19683333 0.78587391 0.45501198 0.62270547 0.73568194\n",
            "  0.87674455 0.41894599 0.24592343 0.78876204]\n",
            " [0.77852126 0.51486674 0.89585028 0.42368485 0.68029227 0.02085431\n",
            "  0.42537727 0.3329768  0.58855072 0.3137931 ]\n",
            " [0.13836411 0.4846756  0.71475892 0.27037556 0.66107992 0.34375991\n",
            "  0.97444594 0.1540244  0.99635333 0.04097585]\n",
            " [0.89188546 0.21255399 0.14070892 0.40653385 0.23622301 0.02316869\n",
            "  0.49909582 0.9069485  0.55663435 0.05884918]\n",
            " [0.17897668 0.00287705 0.11168322 0.78769594 0.73930451 0.09207392\n",
            "  0.90843187 0.19684209 0.0834545  0.13183583]\n",
            " [0.62681133 0.15027053 0.33135908 0.44843856 0.85095431 0.71967943\n",
            "  0.89173322 0.73772957 0.29779604 0.19859878]]\n",
            "Minimum Value: 0.0028770537221766146\n",
            "Maximum Value: 0.9963533335145857\n"
          ]
        }
      ]
    },
    {
      "cell_type": "code",
      "source": [
        "# Task 6:\n",
        "zero_array = np.zeros(10)\n",
        "zero_array[4] = 1\n",
        "print(\"\\nZero Array with 5th Element Replaced by 1:\")\n",
        "print(zero_array)"
      ],
      "metadata": {
        "colab": {
          "base_uri": "https://localhost:8080/"
        },
        "id": "oKbY4lpz4LGy",
        "outputId": "5605f73a-a674-4bd4-99e4-da8bbc0dc7ba"
      },
      "execution_count": 13,
      "outputs": [
        {
          "output_type": "stream",
          "name": "stdout",
          "text": [
            "\n",
            "Zero Array with 5th Element Replaced by 1:\n",
            "[0. 0. 0. 0. 1. 0. 0. 0. 0. 0.]\n"
          ]
        }
      ]
    },
    {
      "cell_type": "code",
      "source": [
        "# Task 7:\n",
        "b=np.array([1,2,0,0,4,0])\n",
        "rev=b[::-1]\n",
        "print(\"Original: \", b)\n",
        "print(\"reversed: \", rev)"
      ],
      "metadata": {
        "colab": {
          "base_uri": "https://localhost:8080/"
        },
        "id": "devEOTko4O6p",
        "outputId": "bc27ed82-5f7f-44dd-cb39-6b6995c5f7d8"
      },
      "execution_count": 41,
      "outputs": [
        {
          "output_type": "stream",
          "name": "stdout",
          "text": [
            "Original:  [1 2 0 0 4 0]\n",
            "reversed:  [0 4 0 0 2 1]\n"
          ]
        }
      ]
    },
    {
      "cell_type": "code",
      "source": [
        "# Task 8:\n",
        "b=np.zeros((5,5),dtype=int)\n",
        "b[0,:]=1 #top\n",
        "b[-1,:]=1 #bottom\n",
        "b[:,0]=1 #left\n",
        "b[:,-1]=1 #right\n",
        "print(\"1 on border and 0 inside : \",b)\n"
      ],
      "metadata": {
        "colab": {
          "base_uri": "https://localhost:8080/"
        },
        "id": "ohHxQaib4Q0x",
        "outputId": "449ca722-8710-4453-b833-bad3bdc0bba0"
      },
      "execution_count": 42,
      "outputs": [
        {
          "output_type": "stream",
          "name": "stdout",
          "text": [
            "1 on border and 0 inside :  [[1 1 1 1 1]\n",
            " [1 0 0 0 1]\n",
            " [1 0 0 0 1]\n",
            " [1 0 0 0 1]\n",
            " [1 1 1 1 1]]\n"
          ]
        }
      ]
    },
    {
      "cell_type": "code",
      "source": [
        "# Task 9:\n",
        "checkerboard = np.zeros((8, 8), dtype=int)\n",
        "checkerboard[1::2, ::2] = 1\n",
        "checkerboard[::2, 1::2] = 1\n",
        "print(\"\\n8x8 Checkerboard Pattern:\")\n",
        "print(checkerboard)\n",
        "\n"
      ],
      "metadata": {
        "colab": {
          "base_uri": "https://localhost:8080/"
        },
        "id": "ti5Dcxy64Shf",
        "outputId": "77b02b70-004a-4ca1-b403-8b81c6cf89e1"
      },
      "execution_count": 16,
      "outputs": [
        {
          "output_type": "stream",
          "name": "stdout",
          "text": [
            "\n",
            "8x8 Checkerboard Pattern:\n",
            "[[0 1 0 1 0 1 0 1]\n",
            " [1 0 1 0 1 0 1 0]\n",
            " [0 1 0 1 0 1 0 1]\n",
            " [1 0 1 0 1 0 1 0]\n",
            " [0 1 0 1 0 1 0 1]\n",
            " [1 0 1 0 1 0 1 0]\n",
            " [0 1 0 1 0 1 0 1]\n",
            " [1 0 1 0 1 0 1 0]]\n"
          ]
        }
      ]
    },
    {
      "cell_type": "markdown",
      "source": [
        "## **Question 3**"
      ],
      "metadata": {
        "id": "yHEZ73-w4rft"
      }
    },
    {
      "cell_type": "code",
      "source": [
        "x = np.array([[1, 2], [3, 4]])\n",
        "y = np.array([[5, 6], [7, 8]])\n",
        "v = np.array([9, 10])\n",
        "w = np.array([11, 12])"
      ],
      "metadata": {
        "id": "bCsDIWp84U0P"
      },
      "execution_count": 25,
      "outputs": []
    },
    {
      "cell_type": "code",
      "source": [
        "# Task 1:\n",
        "addition = x + y\n",
        "print(\"Addition of x and y:\")\n",
        "print(addition)"
      ],
      "metadata": {
        "colab": {
          "base_uri": "https://localhost:8080/"
        },
        "id": "6xIlZUo548sI",
        "outputId": "7da591cb-38c3-4504-fde7-46d4b4f89d85"
      },
      "execution_count": 24,
      "outputs": [
        {
          "output_type": "stream",
          "name": "stdout",
          "text": [
            "Addition of x and y:\n",
            "[[ 6  8]\n",
            " [10 12]]\n"
          ]
        }
      ]
    },
    {
      "cell_type": "code",
      "source": [
        "# Task 2:\n",
        "subtraction = x - y\n",
        "print(\"\\nSubtraction of x and y:\")\n",
        "print(subtraction)"
      ],
      "metadata": {
        "colab": {
          "base_uri": "https://localhost:8080/"
        },
        "id": "hTjUFzVX7r6M",
        "outputId": "51be0493-a25f-4c44-9a19-342e05c120b8"
      },
      "execution_count": 26,
      "outputs": [
        {
          "output_type": "stream",
          "name": "stdout",
          "text": [
            "\n",
            "Subtraction of x and y:\n",
            "[[-4 -4]\n",
            " [-4 -4]]\n"
          ]
        }
      ]
    },
    {
      "cell_type": "code",
      "source": [
        "# Task 3:\n",
        "multiplication = w * 2\n",
        "print(\"\\nMultiplication of x with 3:\")\n",
        "print(multiplication)"
      ],
      "metadata": {
        "colab": {
          "base_uri": "https://localhost:8080/"
        },
        "id": "SW0LJZ--7-RL",
        "outputId": "3101241b-23ee-478e-d41c-f17dd0b9fbbb"
      },
      "execution_count": 31,
      "outputs": [
        {
          "output_type": "stream",
          "name": "stdout",
          "text": [
            "\n",
            "Multiplication of x with 3:\n",
            "[22 24]\n"
          ]
        }
      ]
    },
    {
      "cell_type": "code",
      "source": [
        "# Task 4:\n",
        "squared = y ** 2\n",
        "print(\"\\nSquare of each element in x:\")\n",
        "print(squared)"
      ],
      "metadata": {
        "colab": {
          "base_uri": "https://localhost:8080/"
        },
        "id": "QD6V9EWd8Avl",
        "outputId": "2e9b5c3b-e1f4-4ab0-bdda-0f0387525bee"
      },
      "execution_count": 30,
      "outputs": [
        {
          "output_type": "stream",
          "name": "stdout",
          "text": [
            "\n",
            "Square of each element in x:\n",
            "[[25 36]\n",
            " [49 64]]\n"
          ]
        }
      ]
    },
    {
      "cell_type": "code",
      "source": [
        "# Task 5:\n",
        "dot_vw = np.dot(v, w)  # Dot product of v and w\n",
        "dot_xv = np.dot(x, v)  # Dot product of x and v\n",
        "dot_xy = np.dot(x, y)  # Dot product of x and y\n",
        "print(\"\\nDot Product are:\")\n",
        "print(f\"Dot product of v and w: {dot_vw}\")\n",
        "print(f\"Dot product of x and v: {dot_xv}\")\n",
        "print(f\"Dot product of x and y: \\n{dot_xy}\")"
      ],
      "metadata": {
        "colab": {
          "base_uri": "https://localhost:8080/"
        },
        "id": "Ys5_t7bd8Icr",
        "outputId": "5c243134-931a-47fe-cfd0-9b4aae79c440"
      },
      "execution_count": 36,
      "outputs": [
        {
          "output_type": "stream",
          "name": "stdout",
          "text": [
            "\n",
            "Dot Product are:\n",
            "Dot product of v and w: 219\n",
            "Dot product of x and v: [29 67]\n",
            "Dot product of x and y: \n",
            "[[19 22]\n",
            " [43 50]]\n"
          ]
        }
      ]
    },
    {
      "cell_type": "code",
      "source": [
        "# Task 6:\n",
        "concat_xy_row = np.concatenate((x, y), axis=0)\n",
        "concat_vw_column = np.vstack((v, w)).T\n",
        "print(\"\\nConcatenation:\")\n",
        "print(\"Concatenate x and y along rows:\")\n",
        "print(concat_xy_row)\n",
        "print(\"Concatenate v and w along columns:\")\n",
        "print(concat_vw_column)\n"
      ],
      "metadata": {
        "colab": {
          "base_uri": "https://localhost:8080/"
        },
        "id": "6zSTAVW58Tbt",
        "outputId": "139e0762-f83a-4cd5-ac04-fc58c880081b"
      },
      "execution_count": 37,
      "outputs": [
        {
          "output_type": "stream",
          "name": "stdout",
          "text": [
            "\n",
            "Concatenation:\n",
            "Concatenate x and y along rows:\n",
            "[[1 2]\n",
            " [3 4]\n",
            " [5 6]\n",
            " [7 8]]\n",
            "Concatenate v and w along columns:\n",
            "[[ 9 11]\n",
            " [10 12]]\n"
          ]
        }
      ]
    },
    {
      "cell_type": "code",
      "source": [
        "# Task 7:\n",
        "\n",
        "result = np.concatenate((x, x3))\n",
        "print(\"Concatenation result:\\n\", result)"
      ],
      "metadata": {
        "colab": {
          "base_uri": "https://localhost:8080/",
          "height": 193
        },
        "id": "UpsoHPMq8mYc",
        "outputId": "49195e06-3e92-403d-ee7e-8422002746b9"
      },
      "execution_count": 44,
      "outputs": [
        {
          "output_type": "error",
          "ename": "ValueError",
          "evalue": "all the input arrays must have same number of dimensions, but the array at index 0 has 1 dimension(s) and the array at index 1 has 0 dimension(s)",
          "traceback": [
            "\u001b[0;31m---------------------------------------------------------------------------\u001b[0m",
            "\u001b[0;31mValueError\u001b[0m                                Traceback (most recent call last)",
            "\u001b[0;32m<ipython-input-44-ec523124e48e>\u001b[0m in \u001b[0;36m<cell line: 9>\u001b[0;34m()\u001b[0m\n\u001b[1;32m      7\u001b[0m \u001b[0;31m#     print(\"\\nError when trying to concatenate x and v:\")\u001b[0m\u001b[0;34m\u001b[0m\u001b[0;34m\u001b[0m\u001b[0m\n\u001b[1;32m      8\u001b[0m \u001b[0;31m#     print(e)\u001b[0m\u001b[0;34m\u001b[0m\u001b[0;34m\u001b[0m\u001b[0m\n\u001b[0;32m----> 9\u001b[0;31m \u001b[0mresult\u001b[0m \u001b[0;34m=\u001b[0m \u001b[0mnp\u001b[0m\u001b[0;34m.\u001b[0m\u001b[0mconcatenate\u001b[0m\u001b[0;34m(\u001b[0m\u001b[0;34m(\u001b[0m\u001b[0mx\u001b[0m\u001b[0;34m,\u001b[0m \u001b[0;36m3\u001b[0m\u001b[0;34m)\u001b[0m\u001b[0;34m)\u001b[0m\u001b[0;34m\u001b[0m\u001b[0;34m\u001b[0m\u001b[0m\n\u001b[0m\u001b[1;32m     10\u001b[0m \u001b[0mprint\u001b[0m\u001b[0;34m(\u001b[0m\u001b[0;34m\"Concatenation result:\\n\"\u001b[0m\u001b[0;34m,\u001b[0m \u001b[0mresult\u001b[0m\u001b[0;34m)\u001b[0m\u001b[0;34m\u001b[0m\u001b[0;34m\u001b[0m\u001b[0m\n",
            "\u001b[0;31mValueError\u001b[0m: all the input arrays must have same number of dimensions, but the array at index 0 has 1 dimension(s) and the array at index 1 has 0 dimension(s)"
          ]
        }
      ]
    },
    {
      "cell_type": "markdown",
      "source": [
        "***x and x3 have different dimension***"
      ],
      "metadata": {
        "id": "pPaAsO3x_080"
      }
    },
    {
      "cell_type": "markdown",
      "source": [
        "# **Question 4**"
      ],
      "metadata": {
        "id": "rpuij2kB_oNB"
      }
    },
    {
      "cell_type": "markdown",
      "source": [
        "Task 1"
      ],
      "metadata": {
        "id": "b6CYCasECBw6"
      }
    },
    {
      "cell_type": "code",
      "source": [
        "A = np.array([[3, 4], [7, 8]])\n",
        "B = np.array([[5, 3], [2, 1]])\n"
      ],
      "metadata": {
        "id": "9ZVzj6vb8oXn"
      },
      "execution_count": 45,
      "outputs": []
    },
    {
      "cell_type": "code",
      "source": [
        "# Prove A.A−1 = I.\n",
        "A_inv = np.linalg.inv(A)\n",
        "identity = np.dot(A, A_inv)\n",
        "print(identity)\n"
      ],
      "metadata": {
        "colab": {
          "base_uri": "https://localhost:8080/"
        },
        "id": "d7rUYW4QAKYM",
        "outputId": "3f4cc614-b906-443a-923e-4c060d8109db"
      },
      "execution_count": 49,
      "outputs": [
        {
          "output_type": "stream",
          "name": "stdout",
          "text": [
            "[[1.00000000e+00 0.00000000e+00]\n",
            " [1.77635684e-15 1.00000000e+00]]\n"
          ]
        }
      ]
    },
    {
      "cell_type": "code",
      "source": [
        "AB = np.dot(A, B)\n",
        "BA = np.dot(B, A)\n",
        "print(\"\\nAB:\")\n",
        "print(AB)\n",
        "print(\"\\nBA:\")\n",
        "print(BA)\n",
        "print(\"\\nAB == BA:\", np.array_equal(AB, BA))\n"
      ],
      "metadata": {
        "colab": {
          "base_uri": "https://localhost:8080/"
        },
        "id": "lrnQK2jsBRUb",
        "outputId": "842cd6a5-438b-47c2-fca1-c228ac8f0f68"
      },
      "execution_count": 50,
      "outputs": [
        {
          "output_type": "stream",
          "name": "stdout",
          "text": [
            "\n",
            "AB:\n",
            "[[23 13]\n",
            " [51 29]]\n",
            "\n",
            "BA:\n",
            "[[36 44]\n",
            " [13 16]]\n",
            "\n",
            "AB == BA: False\n"
          ]
        }
      ]
    },
    {
      "cell_type": "code",
      "source": [
        "AB_T = np.transpose(AB)\n",
        "BT_AT = np.dot(np.transpose(B), np.transpose(A))\n",
        "print(\"\\n(AB)^T:\")\n",
        "print(AB_T)\n",
        "print(\"\\nB^T . A^T:\")\n",
        "print(BT_AT)\n",
        "print(\"\\n(AB)^T == B^T . A^T:\", np.array_equal(AB_T, BT_AT))\n"
      ],
      "metadata": {
        "colab": {
          "base_uri": "https://localhost:8080/"
        },
        "id": "KAgMlF3TBu15",
        "outputId": "5d26be2a-c7a2-47b2-82dc-0f642507addc"
      },
      "execution_count": 51,
      "outputs": [
        {
          "output_type": "stream",
          "name": "stdout",
          "text": [
            "\n",
            "(AB)^T:\n",
            "[[23 51]\n",
            " [13 29]]\n",
            "\n",
            "B^T . A^T:\n",
            "[[23 51]\n",
            " [13 29]]\n",
            "\n",
            "(AB)^T == B^T . A^T: True\n"
          ]
        }
      ]
    },
    {
      "cell_type": "markdown",
      "source": [
        "Task 2"
      ],
      "metadata": {
        "id": "WVKaNsmcCEkh"
      }
    },
    {
      "cell_type": "code",
      "source": [
        "A1=np.array([[2,-3,1], [1,-1,2], [3,1,-1]])\n",
        "B1=np.array([-1,-3,9])\n"
      ],
      "metadata": {
        "id": "WvzgH76LCGHp"
      },
      "execution_count": 57,
      "outputs": []
    },
    {
      "cell_type": "code",
      "source": [
        "A_inverse=np.linalg.inv(A1)\n",
        "x=np.dot(A_inverse,B1)\n",
        "print( A1)\n",
        "print( B1)\n",
        "print( A_inverse)\n",
        "print( x)\n"
      ],
      "metadata": {
        "colab": {
          "base_uri": "https://localhost:8080/"
        },
        "id": "Nqy3_aKvCKRb",
        "outputId": "7e245737-a7b2-4ea6-cbbd-34ed922e7fbc"
      },
      "execution_count": 58,
      "outputs": [
        {
          "output_type": "stream",
          "name": "stdout",
          "text": [
            "[[ 2 -3  1]\n",
            " [ 1 -1  2]\n",
            " [ 3  1 -1]]\n",
            "[-1 -3  9]\n",
            "[[ 0.05263158  0.10526316  0.26315789]\n",
            " [-0.36842105  0.26315789  0.15789474]\n",
            " [-0.21052632  0.57894737 -0.05263158]]\n",
            "[ 2.  1. -2.]\n"
          ]
        }
      ]
    },
    {
      "cell_type": "markdown",
      "source": [
        "# **Question 5**"
      ],
      "metadata": {
        "id": "QqD-Xy37DVAZ"
      }
    },
    {
      "cell_type": "code",
      "source": [
        "def measure_time(func, *args):\n",
        "    start_time = time.time()\n",
        "    result = func(*args)\n",
        "    end_time = time.time()\n",
        "    return result, end_time - start_time"
      ],
      "metadata": {
        "id": "lmDViBhmCOrq"
      },
      "execution_count": 62,
      "outputs": []
    },
    {
      "cell_type": "markdown",
      "source": [
        "Task 1"
      ],
      "metadata": {
        "id": "5EINpfYcDwM5"
      }
    },
    {
      "cell_type": "code",
      "source": [
        "size = 1_000_000\n",
        "list1 = [i for i in range(size)]\n",
        "list2 = [i for i in range(size)]\n",
        "array1 = np.array(list1)\n",
        "array2 = np.array(list2)\n",
        "\n",
        "def list_addition(list1, list2):\n",
        "    return [list1[i] + list2[i] for i in range(len(list1))]\n",
        "\n",
        "_, time_list_add = measure_time(list_addition, list1, list2)\n",
        "\n",
        "_, time_numpy_add = measure_time(np.add, array1, array2)\n",
        "\n",
        "print(f\"Element-wise Addition:\")\n",
        "print(f\"Python Lists Time: {time_list_add:.6f} seconds\")\n",
        "print(f\"NumPy Arrays Time: {time_numpy_add:.6f} seconds\\n\")"
      ],
      "metadata": {
        "colab": {
          "base_uri": "https://localhost:8080/"
        },
        "id": "EYDogpbBDygs",
        "outputId": "152fefb4-da37-42c0-8ef4-3bebace6f6a6"
      },
      "execution_count": 63,
      "outputs": [
        {
          "output_type": "stream",
          "name": "stdout",
          "text": [
            "Element-wise Addition:\n",
            "Python Lists Time: 0.153364 seconds\n",
            "NumPy Arrays Time: 0.007979 seconds\n",
            "\n"
          ]
        }
      ]
    },
    {
      "cell_type": "markdown",
      "source": [
        "Task 2"
      ],
      "metadata": {
        "id": "l8-POYRiD8UA"
      }
    },
    {
      "cell_type": "code",
      "source": [
        "def list_multiplication(list1, list2):\n",
        "    return [list1[i] * list2[i] for i in range(len(list1))]\n",
        "_, time_list_mul = measure_time(list_multiplication, list1, list2)\n",
        "_, time_numpy_mul = measure_time(np.multiply, array1, array2)\n",
        "print(f\"Element-wise Multiplication:\")\n",
        "print(f\"Python Lists Time: {time_list_mul:.6f} seconds\")\n",
        "print(f\"NumPy Arrays Time: {time_numpy_mul:.6f} seconds\\n\")\n"
      ],
      "metadata": {
        "colab": {
          "base_uri": "https://localhost:8080/"
        },
        "id": "L227wHQqD9yj",
        "outputId": "084ab309-b9b6-4b63-859c-b336914b1851"
      },
      "execution_count": 65,
      "outputs": [
        {
          "output_type": "stream",
          "name": "stdout",
          "text": [
            "Element-wise Multiplication:\n",
            "Python Lists Time: 0.125525 seconds\n",
            "NumPy Arrays Time: 0.006476 seconds\n",
            "\n"
          ]
        }
      ]
    },
    {
      "cell_type": "markdown",
      "source": [
        "Task 3"
      ],
      "metadata": {
        "id": "ntyOcUeQEHji"
      }
    },
    {
      "cell_type": "code",
      "source": [
        "def list_dot_product(list1, list2):\n",
        "    return sum(list1[i] * list2[i] for i in range(len(list1)))\n",
        "\n",
        "_, time_list_dot = measure_time(list_dot_product, list1, list2)\n",
        "\n",
        "_, time_numpy_dot = measure_time(np.dot, array1, array2)\n",
        "\n",
        "print(f\"Dot Product:\")\n",
        "print(f\"Python Lists Time: {time_list_dot:.6f} seconds\")\n",
        "print(f\"NumPy Arrays Time: {time_numpy_dot:.6f} seconds\\n\")\n",
        "\n",
        "\n",
        "size_matrix = 1000\n",
        "list_matrix1 = [[i for i in range(size_matrix)] for _ in range(size_matrix)]\n",
        "list_matrix2 = [[i for i in range(size_matrix)] for _ in range(size_matrix)]\n",
        "array_matrix1 = np.array(list_matrix1)\n",
        "array_matrix2 = np.array(list_matrix2)\n",
        "\n",
        "\n",
        "def list_matrix_multiplication(matrix1, matrix2):\n",
        "    result = [[sum(a * b for a, b in zip(row, col)) for col in zip(*matrix2)] for row in matrix1]\n",
        "    return result\n",
        "\n",
        "_, time_list_matrix_mul = measure_time(list_matrix_multiplication, list_matrix1, list_matrix2)\n",
        "\n",
        "\n",
        "_, time_numpy_matrix_mul = measure_time(np.dot, array_matrix1, array_matrix2)\n",
        "\n",
        "print(f\"Matrix Multiplication:\")\n",
        "print(f\"Python Lists Time: {time_list_matrix_mul:.6f} seconds\")\n",
        "print(f\"NumPy Arrays Time: {time_numpy_matrix_mul:.6f} seconds\")"
      ],
      "metadata": {
        "colab": {
          "base_uri": "https://localhost:8080/"
        },
        "id": "gSlGhL-pD_1b",
        "outputId": "16466b08-2201-4fe3-c2b7-38e9a79959e8"
      },
      "execution_count": null,
      "outputs": [
        {
          "output_type": "stream",
          "name": "stdout",
          "text": [
            "Dot Product:\n",
            "Python Lists Time: 0.152254 seconds\n",
            "NumPy Arrays Time: 0.002635 seconds\n",
            "\n"
          ]
        }
      ]
    }
  ]
}